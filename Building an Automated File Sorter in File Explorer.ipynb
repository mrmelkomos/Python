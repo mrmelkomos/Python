{
 "cells": [
  {
   "cell_type": "code",
   "execution_count": 36,
   "id": "21fdec6d-faf5-4a51-b048-63e44ef4fc65",
   "metadata": {},
   "outputs": [],
   "source": [
    "import os, shutil"
   ]
  },
  {
   "cell_type": "code",
   "execution_count": 38,
   "id": "e914cff0-66e0-481c-9817-debbf38d03e9",
   "metadata": {},
   "outputs": [],
   "source": [
    "path = r\"C:/Users/mrmel/OneDrive/Desktop/Misc/\""
   ]
  },
  {
   "cell_type": "code",
   "execution_count": 40,
   "id": "bc6de924-3a06-42f8-9462-2cce2367d280",
   "metadata": {},
   "outputs": [
    {
     "name": "stdout",
     "output_type": "stream",
     "text": [
      "['Article 1.docx', 'Bill Sept 21.pdf', 'Bill Sept 22.pdf', 'Bill Sept 23.pdf', 'Binding-death-benefit-nomination - HESTA.pdf', 'Binding-death-benefit-nomination.pdf', 'Book 1.pdf', 'cholesterol-booklet.pdf', 'CUA40915-C4-MI-(SP)_InfoSheet_web.pdf', 'GD01.pdf', 'Key selection criteria.docx', 'l3816_nomination_of_beneficiaries.pdf', 'money_you_owe_receipt.pdf', 'mrelko_A_man_climbing_the_great_pyramid_at_night_4k_excessive_d_d4669e14-b3f7-42ad-8767-9a4035063a4b.png', 'New Microsoft Office Word Document (2).docx', 'New Microsoft Office Word Document.docx', 'Nomination_of_beneficiaries - Onepath.pdf', 'NS_CG_K1F.pdf', 'PalestineAntiterrorCommunique1944.png', 'PP2022-0246 - Application Documents re 56-60 Caramut Rd Warrnambool.pdf', 'Selection criteria.docx', 'Target questions.docx']\n"
     ]
    }
   ],
   "source": [
    "file_name = os.listdir(path)\n",
    "print(file_name)"
   ]
  },
  {
   "cell_type": "code",
   "execution_count": 22,
   "id": "1692af73-fbf7-4d6e-8ca1-9d5e0d76c1fa",
   "metadata": {},
   "outputs": [
    {
     "name": "stdout",
     "output_type": "stream",
     "text": [
      "C:/Users/mrmel/OneDrive/Desktop/Misc/pdf files\n",
      "C:/Users/mrmel/OneDrive/Desktop/Misc/document files\n",
      "C:/Users/mrmel/OneDrive/Desktop/Misc/image files\n"
     ]
    }
   ],
   "source": [
    "folder_names = ['pdf files', 'document files', 'image files']\n",
    "\n",
    "for loop in range(0,3):\n",
    "    if not os.path.exists(path + folder_names[loop]):\n",
    "        #print((path + folder_names[loop]))\n",
    "        os.makedirs((path + folder_names[loop]))\n",
    "        \n",
    "for file in file_name:\n",
    "    if \".pdf\" in file and not os.path.exists(path + \"pdf files/\" + file):\n",
    "        shutil.move(path + file, path + \"pdf files/\" + file)\n",
    "    elif \".docx\" in file and not os.path.exists(path + \"document files/\" + file):\n",
    "        shutil.move(path + file, path + \"document files/\" + file)\n",
    "    elif \".png\" in file and not os.path.exists(path + \"image files/\" + file):\n",
    "        shutil.move(path + file, path + \"image files/\" + file)"
   ]
  },
  {
   "cell_type": "code",
   "execution_count": 34,
   "id": "2750b49f-4d1b-4d4f-b923-926eccd4c598",
   "metadata": {},
   "outputs": [],
   "source": []
  },
  {
   "cell_type": "code",
   "execution_count": null,
   "id": "24c96512-0c93-46ae-b513-6369cf7c93a2",
   "metadata": {},
   "outputs": [],
   "source": []
  },
  {
   "cell_type": "code",
   "execution_count": null,
   "id": "77442ba9-1f09-4a15-ac2b-8795a2a71964",
   "metadata": {},
   "outputs": [],
   "source": []
  },
  {
   "cell_type": "code",
   "execution_count": null,
   "id": "5ecbb1b2-57ef-4a3f-a592-22211a4a8c91",
   "metadata": {},
   "outputs": [],
   "source": []
  },
  {
   "cell_type": "code",
   "execution_count": null,
   "id": "35aabc57-15f9-4ad5-a97f-7a7de730af77",
   "metadata": {},
   "outputs": [],
   "source": []
  },
  {
   "cell_type": "code",
   "execution_count": null,
   "id": "25ef01a1-a177-41ed-9d68-d5c3316b383d",
   "metadata": {},
   "outputs": [],
   "source": []
  },
  {
   "cell_type": "code",
   "execution_count": null,
   "id": "b64ae282-0e7b-4fd0-88df-26053527c5c6",
   "metadata": {},
   "outputs": [],
   "source": []
  },
  {
   "cell_type": "code",
   "execution_count": null,
   "id": "1dea98d3-2a51-42cd-a5ae-9b05762b37a5",
   "metadata": {},
   "outputs": [],
   "source": []
  }
 ],
 "metadata": {
  "kernelspec": {
   "display_name": "Python 3 (ipykernel)",
   "language": "python",
   "name": "python3"
  },
  "language_info": {
   "codemirror_mode": {
    "name": "ipython",
    "version": 3
   },
   "file_extension": ".py",
   "mimetype": "text/x-python",
   "name": "python",
   "nbconvert_exporter": "python",
   "pygments_lexer": "ipython3",
   "version": "3.11.7"
  }
 },
 "nbformat": 4,
 "nbformat_minor": 5
}
