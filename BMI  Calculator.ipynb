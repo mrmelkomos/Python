{
 "cells": [
  {
   "cell_type": "markdown",
   "id": "3435f037-a0da-418b-ad4f-157955561b20",
   "metadata": {},
   "source": [
    "# https://www.calculatorsoup.com/calculators/health/bmi-calculator.php"
   ]
  },
  {
   "cell_type": "code",
   "execution_count": 136,
   "id": "3d6de599-c482-459c-a8d9-fab5bb173add",
   "metadata": {},
   "outputs": [
    {
     "name": "stdin",
     "output_type": "stream",
     "text": [
      "Enter your name:  Mark\n",
      "Enter your weight in kg:  85\n",
      "Enter your height in m:  1.76\n"
     ]
    },
    {
     "name": "stdout",
     "output_type": "stream",
     "text": [
      "27.44059917355372\n",
      "Mark, you are overweight.\n"
     ]
    }
   ],
   "source": [
    "name = input(\"Enter your name: \")\n",
    "\n",
    "try:\n",
    "    weight = float(input(\"Enter your weight in kg: \"))\n",
    "    if weight == 0:\n",
    "        print(\"Enter valid input\")\n",
    "   \n",
    "    else:\n",
    "        \n",
    "                height = float(input(\"Enter your height in m: \"))\n",
    "                if weight > 0:\n",
    "                   BMI = weight / height**2\n",
    "                   print(BMI)\n",
    "                   if BMI>0:\n",
    "                      if(BMI<18.5):\n",
    "                          print(name + \", you are underweight.\")\n",
    "                      elif(BMI<18.5):\n",
    "                         print(name + \", you are underweight.\")\n",
    "                      elif(BMI<=24.9):\n",
    "                         print(name + \", you are normal weight.\")\n",
    "                      elif(BMI<=29.9):\n",
    "                         print(name + \", you are overweight.\")\n",
    "                      elif(BMI<=34.9):\n",
    "                         print(name + \", you are moderately obese.\")\n",
    "                      elif(BMI<40):\n",
    "                         print(name + \", you are severely obese.\")\n",
    "                      else:\n",
    "                         print(name + \", you are morbidly obese.\")\n",
    "                   else:\n",
    "                       print(\"Enter valid input\")\n",
    "                 \n",
    "                else:\n",
    "                  print(\"Enter valid input\")\n",
    "except ValueError:\n",
    "    print(\"Enter valid input\")\n"
   ]
  },
  {
   "cell_type": "code",
   "execution_count": null,
   "id": "efc66524-c9ae-43e1-99a5-5174e9a8d861",
   "metadata": {},
   "outputs": [],
   "source": []
  },
  {
   "cell_type": "code",
   "execution_count": null,
   "id": "b7a70f6d-a448-4187-9b9f-2f05d0386f03",
   "metadata": {},
   "outputs": [],
   "source": []
  },
  {
   "cell_type": "code",
   "execution_count": null,
   "id": "79ac245c-b304-4231-84b4-738ac2636325",
   "metadata": {},
   "outputs": [],
   "source": []
  },
  {
   "cell_type": "code",
   "execution_count": null,
   "id": "5bc55e8c-21e7-4f66-b77c-0085068fd856",
   "metadata": {},
   "outputs": [],
   "source": []
  },
  {
   "cell_type": "code",
   "execution_count": null,
   "id": "1079e85a-a335-4c4f-9937-285e13e1fe5e",
   "metadata": {},
   "outputs": [],
   "source": [
    "# BMI = weight (kg) ÷ height2 (meters)"
   ]
  },
  {
   "cell_type": "code",
   "execution_count": null,
   "id": "5d30f151-fedb-4378-b1e3-32aa48a0e033",
   "metadata": {},
   "outputs": [],
   "source": [
    "print(weight)"
   ]
  },
  {
   "cell_type": "code",
   "execution_count": null,
   "id": "b65166b4-e47f-411a-9662-cc5411c6af3d",
   "metadata": {},
   "outputs": [],
   "source": []
  },
  {
   "cell_type": "code",
   "execution_count": null,
   "id": "89c82af8-ac0c-4982-ac29-59f3efddcc65",
   "metadata": {},
   "outputs": [],
   "source": [
    "< 18.5\tUnderweight\n",
    "18.5 - 24.9\tNormal\n",
    "25.0 - 29.9\tOverweight\n",
    "30.0 - 34.9\tModerately Obese\n",
    "35.0 - 39.9\tSeverely Obese\n",
    ">= 40.0\tMorbidly Obese"
   ]
  },
  {
   "cell_type": "code",
   "execution_count": 41,
   "id": "848437e5-d8d6-4864-9516-d805ae50fd90",
   "metadata": {},
   "outputs": [
    {
     "name": "stdout",
     "output_type": "stream",
     "text": [
      "Mark, you are overweight.\n"
     ]
    }
   ],
   "source": [
    "if BMI>0:\n",
    "    if(BMI<18.5):\n",
    "        print(name + \", you are underweight.\")\n",
    "    elif(BMI<18.5):\n",
    "        print(name + \", you are underweight.\")\n",
    "    elif(BMI<=24.9):\n",
    "        print(name + \", you are normal weight.\")\n",
    "    elif(BMI<=29.9):\n",
    "        print(name + \", you are overweight.\")\n",
    "    elif(BMI<=34.9):\n",
    "        print(name + \", you are moderately obese.\")\n",
    "    elif(BMI<40):\n",
    "        print(name + \", you are severely obese.\")\n",
    "    else:\n",
    "        print(name + \"ou are morbidly obese.\")\n",
    "else:\n",
    "    print(\"Enter valid inputs\")\n",
    "    "
   ]
  },
  {
   "cell_type": "code",
   "execution_count": null,
   "id": "1d2b9d39-a93d-4a3c-850c-eeceae9e73f4",
   "metadata": {},
   "outputs": [],
   "source": []
  },
  {
   "cell_type": "code",
   "execution_count": null,
   "id": "5e6125f5-e39e-49aa-a743-f72a3fab57e0",
   "metadata": {},
   "outputs": [],
   "source": []
  },
  {
   "cell_type": "code",
   "execution_count": null,
   "id": "b4ca4b6f-306f-4705-a7fd-20657f68a97c",
   "metadata": {},
   "outputs": [],
   "source": []
  }
 ],
 "metadata": {
  "kernelspec": {
   "display_name": "Python 3 (ipykernel)",
   "language": "python",
   "name": "python3"
  },
  "language_info": {
   "codemirror_mode": {
    "name": "ipython",
    "version": 3
   },
   "file_extension": ".py",
   "mimetype": "text/x-python",
   "name": "python",
   "nbconvert_exporter": "python",
   "pygments_lexer": "ipython3",
   "version": "3.11.7"
  }
 },
 "nbformat": 4,
 "nbformat_minor": 5
}
